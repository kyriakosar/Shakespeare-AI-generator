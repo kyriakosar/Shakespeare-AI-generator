{
 "cells": [
  {
   "cell_type": "code",
   "execution_count": 34,
   "metadata": {},
   "outputs": [],
   "source": [
    "from PIL import Image, ImageDraw, ImageFont\n",
    "\n",
    "# Load the background image\n",
    "background_image = Image.open(\"/Users/achris/Desktop/LU/Y2S1/Computational Creativity/A1/materials-openai-dalle/images/An ec-1667994848/papyrus.png\")\n",
    "\n",
    "# Load the bg image into a draw object\n",
    "draw = ImageDraw.Draw(background_image)\n",
    "\n",
    "# Load the calligraphy fonts\n",
    "title_font = ImageFont.truetype(\"/Users/achris/Desktop/LU/Y2S1/Computational Creativity/A1/materials-openai-dalle/HamletOrNot.ttf\", size=36)\n",
    "text_font = ImageFont.truetype(\"/Users/achris/Desktop/LU/Y2S1/Computational Creativity/A1/materials-openai-dalle/HamletOrNot.ttf\", size=24)\n",
    "signature_font = ImageFont.truetype(\"/Users/achris/Desktop/LU/Y2S1/Computational Creativity/A1/materials-openai-dalle/HamletOrNot.ttf\", size=18)\n",
    "\n",
    "text = \" Love to any summer's story tell. Showing their birth and where they did proceed. times happier be it ten for no man well. o fearful meditation where cheeks need. O know sweet love remember'd such wealth brings. Who art as fair in knowledge as in hue. of that music to hear with eyes belongs. so solemn and so is my judgment knew. To subjects worse have given admiring. And each though enemies to either's reign. to subjects worse have given admiring. my love to-day to-morrow see again. Which parts the shore where two contracted new. spirit in a kind is my judgment knew\"\n",
    "\n",
    "title = \"Sonnet of Everlasting Love\"\n",
    "draw.text((270, 100), title, fill=(0, 0, 0), font=title_font)\n",
    "\n",
    "signature = \"ShakespeareAIgenerator\"\n",
    "draw.text((600, 870), signature, fill=(0, 0, 0), font=signature_font)\n",
    "\n",
    "# Set the initial text position\n",
    "text_position = (250, 170)\n",
    "sentences = text.split('.')\n",
    "\n",
    "# Set the initial y-position\n",
    "y_position = text_position[1]\n",
    "\n",
    "# Iterate over the sentences and draw them on the image\n",
    "for sentence in sentences:\n",
    "    draw.text((text_position[0], y_position), sentence, fill=(0, 0, 0), font=text_font)\n",
    "    y_position += 50  # Adjust this value as needed to control the spacing between sentences\n",
    "\n",
    "# Save the final image\n",
    "background_image.save(\"poem3.png\")\n"
   ]
  }
 ],
 "metadata": {
  "kernelspec": {
   "display_name": "py38",
   "language": "python",
   "name": "python3"
  },
  "language_info": {
   "codemirror_mode": {
    "name": "ipython",
    "version": 3
   },
   "file_extension": ".py",
   "mimetype": "text/x-python",
   "name": "python",
   "nbconvert_exporter": "python",
   "pygments_lexer": "ipython3",
   "version": "3.8.16"
  }
 },
 "nbformat": 4,
 "nbformat_minor": 2
}
